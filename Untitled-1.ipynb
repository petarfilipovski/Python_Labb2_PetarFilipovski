{
 "cells": [
  {
   "cell_type": "code",
   "execution_count": 13,
   "id": "dd451a8d",
   "metadata": {},
   "outputs": [],
   "source": [
    "import pandas as pd\n",
    "import matplotlib.pyplot as plt\n",
    "\n",
    "filnamn = \"C:/Users/pepef/Desktop/labb_2/riket2023_åk9_np.xlsx\"  # läser in korrekt  filnamn\n",
    "\n",
    "columns = [\"Plats\", \"Huvudman\", \"Totalt_A_F\", \"Flickor_A_F\", \"Pojkar_A_F\",\n",
    "           \"Totalt_A_E\", \"Flickor_A_E\", \"Pojkar_A_E\", \"Totalt_poäng\", \"Flickor_poäng\", \"Pojkar_poäng\"]  # läser in alla ämnen\n",
    "\n",
    "\n",
    "\n"
   ]
  }
 ],
 "metadata": {
  "kernelspec": {
   "display_name": ".venv",
   "language": "python",
   "name": "python3"
  },
  "language_info": {
   "codemirror_mode": {
    "name": "ipython",
    "version": 3
   },
   "file_extension": ".py",
   "mimetype": "text/x-python",
   "name": "python",
   "nbconvert_exporter": "python",
   "pygments_lexer": "ipython3",
   "version": "3.12.8"
  }
 },
 "nbformat": 4,
 "nbformat_minor": 5
}
